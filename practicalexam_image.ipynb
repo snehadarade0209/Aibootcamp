{
 "cells": [
  {
   "cell_type": "code",
   "execution_count": null,
   "id": "5292ae50-09e9-4132-a160-7ae7f0f81e01",
   "metadata": {},
   "outputs": [],
   "source": [
    "!pip install numpy\n",
    "!pip install matplotlib\n",
    "!pip install opencv-python"
   ]
  },
  {
   "cell_type": "code",
   "execution_count": 9,
   "id": "ec658659-9508-4825-a748-8879af33e0a9",
   "metadata": {},
   "outputs": [],
   "source": [
    "import cv2\n",
    "import numpy as np\n",
    "import matplotlib.pyplot as plt"
   ]
  },
  {
   "cell_type": "code",
   "execution_count": 11,
   "id": "4560eb36-5950-474c-8691-f2c04488ad71",
   "metadata": {},
   "outputs": [],
   "source": [
    "img = cv2.imread(r\"C:\\Users\\sneha\\OneDrive\\Desktop\\wallpaper1.jpg\")"
   ]
  },
  {
   "cell_type": "code",
   "execution_count": 13,
   "id": "227cb59d-ea47-47a6-b82f-c8a38f299684",
   "metadata": {},
   "outputs": [
    {
     "name": "stdout",
     "output_type": "stream",
     "text": [
      "<class 'numpy.ndarray'>\n"
     ]
    }
   ],
   "source": [
    "print(type(img))"
   ]
  },
  {
   "cell_type": "code",
   "execution_count": 15,
   "id": "4dfbb171-4876-40df-b66d-9d97bced4219",
   "metadata": {},
   "outputs": [],
   "source": [
    "cv2.imshow(\"wallpaper1\",img)\n",
    "cv2.waitKey(0)\n",
    "cv2.destroyAllWindows()"
   ]
  },
  {
   "cell_type": "code",
   "execution_count": 16,
   "id": "1a99ff16-37a1-4d32-bf40-27dad91874db",
   "metadata": {},
   "outputs": [
    {
     "name": "stdout",
     "output_type": "stream",
     "text": [
      "(414, 736, 3)\n"
     ]
    }
   ],
   "source": [
    "print(img.shape)"
   ]
  },
  {
   "cell_type": "code",
   "execution_count": 17,
   "id": "9415faac-fd89-469c-91c2-c5fc8ffdbb74",
   "metadata": {},
   "outputs": [],
   "source": [
    "img_resize = cv2.resize(img,(203,300))"
   ]
  },
  {
   "cell_type": "code",
   "execution_count": 21,
   "id": "ca615d8f-9c5d-4162-ac30-aaf2f557e62d",
   "metadata": {},
   "outputs": [],
   "source": [
    "cv2.imshow(\"manya\",img_resize)\n",
    "cv2.waitKey(0)\n",
    "cv2.destroyAllWindows()"
   ]
  },
  {
   "cell_type": "code",
   "execution_count": 23,
   "id": "be73c801-ef0f-4f81-a22f-268852767b81",
   "metadata": {},
   "outputs": [
    {
     "name": "stdout",
     "output_type": "stream",
     "text": [
      "(300, 203, 3)\n"
     ]
    }
   ],
   "source": [
    "\n",
    "print(img_resize.shape)"
   ]
  },
  {
   "cell_type": "code",
   "execution_count": 25,
   "id": "519e7368-0519-4edc-a6ba-888415bc2caa",
   "metadata": {},
   "outputs": [],
   "source": [
    "img_flip = cv2.flip(img,1)"
   ]
  },
  {
   "cell_type": "code",
   "execution_count": 27,
   "id": "eb3986d3-429c-47d1-9827-d1c41260735c",
   "metadata": {},
   "outputs": [],
   "source": [
    "cv2.imshow(\"flipped Image\",img_flip)\n",
    "cv2.waitKey(0)\n",
    "cv2.destroyAllWindows()"
   ]
  },
  {
   "cell_type": "code",
   "execution_count": 29,
   "id": "50cd8ebd-e1d3-48b8-999c-d7fb88e93331",
   "metadata": {},
   "outputs": [],
   "source": [
    "img_crop = img[100:300,200:500]"
   ]
  },
  {
   "cell_type": "code",
   "execution_count": 31,
   "id": "a02d9c3c-db29-4a1e-a40b-eef7cdc7d7e4",
   "metadata": {},
   "outputs": [
    {
     "data": {
      "text/plain": [
       "True"
      ]
     },
     "execution_count": 31,
     "metadata": {},
     "output_type": "execute_result"
    }
   ],
   "source": [
    "cv2.imshow(\"Cropped Image\",img_crop)\n",
    "cv2.waitKey(0)\n",
    "cv2.destroyAllWindows()\n",
    "cv2.imwrite(r\"croppedImg16.jpg\",img_crop)"
   ]
  },
  {
   "cell_type": "code",
   "execution_count": null,
   "id": "14a8f2cd-9b16-460d-8da6-8d20e1ce84bc",
   "metadata": {},
   "outputs": [],
   "source": []
  }
 ],
 "metadata": {
  "kernelspec": {
   "display_name": "Python [conda env:base] *",
   "language": "python",
   "name": "conda-base-py"
  },
  "language_info": {
   "codemirror_mode": {
    "name": "ipython",
    "version": 3
   },
   "file_extension": ".py",
   "mimetype": "text/x-python",
   "name": "python",
   "nbconvert_exporter": "python",
   "pygments_lexer": "ipython3",
   "version": "3.12.7"
  }
 },
 "nbformat": 4,
 "nbformat_minor": 5
}
