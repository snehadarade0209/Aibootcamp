{
 "cells": [
  {
   "cell_type": "code",
   "execution_count": 1,
   "id": "8fc75b97-60e9-417d-af39-878814c75283",
   "metadata": {},
   "outputs": [],
   "source": [
    "import cv2\n",
    "\n",
    "# Initialize the webcam (0 is usually the default camera)\n",
    "cap = cv2.VideoCapture(0)\n",
    "\n",
    "# Check if the webcam is opened correctly\n",
    "if not cap.isOpened():\n",
    "    print(\"Error: Could not open webcam.\")\n",
    "    exit()\n",
    "\n",
    "# Capture a single frame\n",
    "ret, frame = cap.read()\n",
    "\n",
    "# If frame is captured successfully\n",
    "if ret:\n",
    "    # Display the frame in a window\n",
    "    cv2.imshow('Captured Frame', frame)\n",
    "    \n",
    "    # Wait for a key press to close the window\n",
    "    cv2.waitKey(0)\n",
    "\n",
    "# Release the webcam and close the window\n",
    "cap.release()\n",
    "cv2.destroyAllWindows()"
   ]
  },
  {
   "cell_type": "code",
   "execution_count": null,
   "id": "456fe7a6-4428-4efd-aee0-47961d8809a5",
   "metadata": {},
   "outputs": [],
   "source": [
    "import cv2\n",
    "\n",
    "# Initialize the webcam (0 is usually the default camera)\n",
    "cap = cv2.VideoCapture(0)\n",
    "\n",
    "# Check if the webcam is opened correctly\n",
    "if not cap.isOpened():\n",
    "    print(\"Error: Could not open webcam.\")\n",
    "    exit()\n",
    "\n",
    "# Loop to continuously capture frames\n",
    "while True:\n",
    "    # Capture each frame\n",
    "    ret, frame = cap.read()\n",
    "\n",
    "    # If the frame is captured successfully\n",
    "    if ret:\n",
    "        # Display the frame in a window\n",
    "        cv2.imshow('Webcam Feed', frame)\n",
    "\n",
    "        # Wait for 1 ms and check if 'q' is pressed to quit\n",
    "        if cv2.waitKey(1) & 0xFF == ord('q'):\n",
    "            break\n",
    "    else:\n",
    "        print(\"Error: Failed to capture frame.\")\n",
    "        break\n",
    "\n",
    "# Release the webcam and close all OpenCV windows\n",
    "cap.release()\n",
    "cv2.destroyAllWindows()"
   ]
  },
  {
   "cell_type": "code",
   "execution_count": null,
   "id": "e96a144e-f987-425a-9546-eb3b2b8e8a06",
   "metadata": {},
   "outputs": [],
   "source": [
    "cap.release()\n",
    "cv2.destroyAllWindows()"
   ]
  },
  {
   "cell_type": "code",
   "execution_count": null,
   "id": "9541397c-d2ef-4639-8172-67bd3395ce3c",
   "metadata": {},
   "outputs": [],
   "source": []
  },
  {
   "cell_type": "code",
   "execution_count": null,
   "id": "47a3b947-816f-4230-ac98-2fab58417120",
   "metadata": {},
   "outputs": [],
   "source": []
  }
 ],
 "metadata": {
  "kernelspec": {
   "display_name": "Python [conda env:base] *",
   "language": "python",
   "name": "conda-base-py"
  },
  "language_info": {
   "codemirror_mode": {
    "name": "ipython",
    "version": 3
   },
   "file_extension": ".py",
   "mimetype": "text/x-python",
   "name": "python",
   "nbconvert_exporter": "python",
   "pygments_lexer": "ipython3",
   "version": "3.12.7"
  }
 },
 "nbformat": 4,
 "nbformat_minor": 5
}
